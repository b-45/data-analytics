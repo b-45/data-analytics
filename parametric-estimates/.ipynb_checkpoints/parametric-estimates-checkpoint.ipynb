{
 "cells": [
  {
   "cell_type": "markdown",
   "metadata": {},
   "source": [
    "## Parametric Estimates"
   ]
  },
  {
   "cell_type": "markdown",
   "metadata": {},
   "source": [
    "![cycle](cycle.jpeg)\n",
    "\n",
    "### A cycling group in Dallas, was planning a cross-country bicycle trip, starting in Seattle, Washington ending Miami, Florida.  Based on their experience riding together every saturday for 2 months, they figured they could average 80 miles per day comfortably.  A road atlas put the the total trip distance 3,334 miles. Dividing 3334 by 80, they estimated the trip would last 42 days.  At this point, the only parameter was this normal daily rate of 80 miles.  But when one of the riders pointed out that all their practice rides had been relatively flat terrain in dry weather, they made changes to their model.  They reduced their average daily mileage to 30 for the mountainous parts of their route (the route had about 200 miles of mountain crossing) and they added 10percent for weather delays.This changed the formula from one to three parameters: normal daily rate, mountain rate, and weather factor."
   ]
  },
  {
   "cell_type": "code",
   "execution_count": 1,
   "metadata": {},
   "outputs": [
    {
     "name": "stdout",
     "output_type": "stream",
     "text": [
      "The trip duration is: 50.6\n"
     ]
    }
   ],
   "source": [
    "def parametric_estimate(total_miles, mountain_miles, normal_rate, mountain_rate, weather_factor):\n",
    "    flat_terrain = total_miles - mountain_miles\n",
    "    mountain_terrain = mountain_miles/mountain_rate\n",
    "    result = round(flat_terrain/normal_rate + mountain_terrain) * weather_factor\n",
    "    print (\"The trip duration is:\", result)\n",
    "\n",
    "parametric_estimate(3334, 200, 80, 30, 1.10)"
   ]
  }
 ],
 "metadata": {
  "kernelspec": {
   "display_name": "Python 3",
   "language": "python",
   "name": "python3"
  },
  "language_info": {
   "codemirror_mode": {
    "name": "ipython",
    "version": 3
   },
   "file_extension": ".py",
   "mimetype": "text/x-python",
   "name": "python",
   "nbconvert_exporter": "python",
   "pygments_lexer": "ipython3",
   "version": "3.7.1"
  }
 },
 "nbformat": 4,
 "nbformat_minor": 2
}
